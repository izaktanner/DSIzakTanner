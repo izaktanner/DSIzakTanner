{
 "cells": [
  {
   "cell_type": "markdown",
   "id": "514f844d-3f1c-43c4-a923-303a0f6c48b9",
   "metadata": {},
   "source": [
    "# Data Science Tools and Ecosystem"
   ]
  },
  {
   "cell_type": "markdown",
   "id": "074c38d9-6f0f-487c-b0fe-208bd17f2fd1",
   "metadata": {},
   "source": [
    "This an introduction to jupyter notebook. We are learning to write sentences.\n",
    "       \n",
    "**Objectives**:\n",
    "        \n",
    "- R\n",
    "- Python\n",
    "-  SQL"
   ]
  },
  {
   "cell_type": "markdown",
   "id": "aacd564a-62ef-4265-b653-576bfe569004",
   "metadata": {},
   "source": [
    "Some of the popular languages that Data Scientists use are:\n",
    "\n",
    "        1.Python\n",
    "        2.SQL\n",
    "        3.R"
   ]
  },
  {
   "cell_type": "markdown",
   "id": "451282a1-338b-4e24-ac21-228ec5bf2c66",
   "metadata": {},
   "source": [
    "Some of the commonly used libraries used by Data Scientists include:\n",
    "        \n",
    "        1.Matplotlib\n",
    "        2. Pandas\n",
    "        3.Seaborn"
   ]
  },
  {
   "cell_type": "markdown",
   "id": "754d5aeb-7733-4759-931c-b8529ee3aa6e",
   "metadata": {},
   "source": [
    "|Data Science Tools|\n",
    "|----|\n",
    "|RStudio|\n",
    "|Apache Spark|\n",
    "|TensorFlow|"
   ]
  },
  {
   "cell_type": "markdown",
   "id": "b340b683-47c2-449f-866b-7595ef6d3466",
   "metadata": {},
   "source": [
    "### Below are a few examples of evaluating arithmetic expressions in Python"
   ]
  },
  {
   "cell_type": "markdown",
   "id": "c967764b-3e7d-48ec-b72e-60d238b70110",
   "metadata": {},
   "source": [
    "This a simple arithmetic expression to mutiply then add integers"
   ]
  },
  {
   "cell_type": "code",
   "execution_count": 2,
   "id": "575819d3-b9a3-4fb5-8205-2d89aa039cdf",
   "metadata": {
    "tags": []
   },
   "outputs": [
    {
     "data": {
      "text/plain": [
       "17"
      ]
     },
     "execution_count": 2,
     "metadata": {},
     "output_type": "execute_result"
    }
   ],
   "source": [
    "(3*4)+5"
   ]
  },
  {
   "cell_type": "markdown",
   "id": "7aee96a7-57b1-4136-b3b1-cc772b12680f",
   "metadata": {},
   "source": [
    "This will convert 200 minutes to hours by diving by 60"
   ]
  },
  {
   "cell_type": "code",
   "execution_count": 3,
   "id": "003e8d5d-05b1-4af3-b1d6-dd93d9d28596",
   "metadata": {
    "tags": []
   },
   "outputs": [
    {
     "data": {
      "text/plain": [
       "3.3333333333333335"
      ]
     },
     "execution_count": 3,
     "metadata": {},
     "output_type": "execute_result"
    }
   ],
   "source": [
    "200/60"
   ]
  },
  {
   "cell_type": "markdown",
   "id": "b37b84e1-d66e-4bc3-b2a4-407a2beef1c9",
   "metadata": {},
   "source": [
    "## Author\n",
    "Izak Tanner"
   ]
  },
  {
   "cell_type": "code",
   "execution_count": null,
   "id": "f6364251-af6e-43e7-a19d-899116b1dde3",
   "metadata": {},
   "outputs": [],
   "source": []
  }
 ],
 "metadata": {
  "kernelspec": {
   "display_name": "Python",
   "language": "python",
   "name": "conda-env-python-py"
  },
  "language_info": {
   "codemirror_mode": {
    "name": "ipython",
    "version": 3
   },
   "file_extension": ".py",
   "mimetype": "text/x-python",
   "name": "python",
   "nbconvert_exporter": "python",
   "pygments_lexer": "ipython3",
   "version": "3.7.12"
  }
 },
 "nbformat": 4,
 "nbformat_minor": 5
}
